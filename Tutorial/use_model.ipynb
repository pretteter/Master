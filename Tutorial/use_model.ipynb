{
 "cells": [
  {
   "cell_type": "code",
   "execution_count": null,
   "metadata": {},
   "outputs": [],
   "source": [
    "import tensorflow as tf\n",
    "import zipfile\n",
    "import os\n",
    "import matplotlib.pyplot as plt\n",
    "import numpy as np\n",
    "\n"
   ]
  },
  {
   "cell_type": "code",
   "execution_count": null,
   "metadata": {},
   "outputs": [],
   "source": [
    "def run():\n",
    "    zip_file_path = \"saved_model/very_good_model.zip\"\n",
    "    # zip_file_path = \"saved_model/first_good_ model.zip\"\n",
    "    \n",
    "    with zipfile.ZipFile(zip_file_path, 'r') as zip_ref:\n",
    "        zip_ref.extractall(\"restored_model\")\n",
    "\n",
    "    loaded_model = tf.saved_model.load(\"restored_model\")\n",
    "\n",
    "    audio_dir = \"data/test\"\n",
    "    \n",
    "    for audio_file in os.listdir(audio_dir):\n",
    "        audio_file_path = os.path.join(audio_dir, audio_file)\n",
    "        \n",
    "        if audio_file.endswith(\".wav\"):\n",
    "            result = loaded_model(tf.constant(audio_file_path))\n",
    "\n",
    "            # Extrahiere Vorhersagedaten\n",
    "            predictions = result['predictions'].numpy()[0]\n",
    "            class_names = [\"original\", \"upscale-from-mp3-128\"] \n",
    "\n",
    "            file_name = os.path.basename(audio_file_path)\n",
    "\n",
    "            plt.figure(figsize=(10, 6))\n",
    "            plt.barh(class_names, predictions, color='skyblue')  \n",
    "            plt.xlabel(\"Wahrscheinlichkeit\")\n",
    "            plt.title(f\"Modellvorhersagen fuer: {file_name}\")\n",
    "            plt.gca().invert_yaxis()  # Höchste Wahrscheinlichkeit oben anzeigen\n",
    "            plt.show()"
   ]
  }
 ],
 "metadata": {
  "kernelspec": {
   "display_name": "venv",
   "language": "python",
   "name": "python3"
  },
  "language_info": {
   "name": "python",
   "version": "3.11.1"
  }
 },
 "nbformat": 4,
 "nbformat_minor": 2
}
