{
 "cells": [
  {
   "cell_type": "code",
   "execution_count": null,
   "metadata": {},
   "outputs": [],
   "source": [
    "\n",
    "\n",
    "import numpy as np\n",
    "import tensorflow as tf\n",
    "import pathlib\n",
    "from pathlib import Path\n",
    "import librosa\n",
    "import os\n",
    "\n",
    "\n",
    "file_list = None\n",
    "train_ds = None\n",
    "val_ds = None\n",
    "test_ds = None\n",
    "label_names = None\n",
    "example_audio = None\n",
    "example_labels = None\n",
    "example_filenames = None\n",
    "\n",
    "\n",
    "\n",
    "TRAIN_DIR = None\n",
    "TEST_DIR = None\n",
    "DATA_DIR = None\n",
    "VAL_DIR = None\n"
   ]
  },
  {
   "cell_type": "markdown",
   "metadata": {},
   "source": [
    "Divided into directories this way, you can easily load the data using `keras.utils.audio_dataset_from_directory`.\n",
    "\n",
    "The audio clips are 1 second or less at 16kHz. The `output_sequence_length=16000` pads the short ones to exactly 1 second (and would trim longer ones) so that they can be easily batched.\n"
   ]
  },
  {
   "cell_type": "code",
   "execution_count": null,
   "metadata": {},
   "outputs": [],
   "source": [
    "def build():\n",
    "    global file_list\n",
    "    global train_ds\n",
    "    global val_ds\n",
    "    global label_names\n",
    "    file_list = tf.data.Dataset.list_files(str(TRAIN_DIR / '**/*.wav'), shuffle=False)\n",
    "\n",
    "    seconds=40\n",
    "    train_ds = tf.keras.utils.audio_dataset_from_directory(\n",
    "        directory=TRAIN_DIR,\n",
    "        batch_size=64,\n",
    "        seed=0,\n",
    "        output_sequence_length=16000*seconds,\n",
    "        ) \n",
    "    val_ds = tf.keras.utils.audio_dataset_from_directory(\n",
    "        directory=VAL_DIR,\n",
    "        batch_size=64,\n",
    "        seed=0,\n",
    "        output_sequence_length=16000*seconds,\n",
    "        ) \n",
    "\n",
    "    label_names = np.array(train_ds.class_names)\n",
    "    # set_label_names(np.array(train_ds.class_names))\n",
    "    print()\n",
    "    print(\"train_ds label names:\", label_names)\n",
    "    print(\"val_ds label names:  \", np.array(val_ds.class_names))\n",
    "    \n",
    "    #The dataset now contains batches of audio clips and integer labels. \n",
    "    #The audio clips have a shape of `(batch, samples, channels)`.\n",
    "    train_ds.element_spec"
   ]
  },
  {
   "cell_type": "markdown",
   "metadata": {},
   "source": [
    "This dataset only contains single channel audio, so use the `tf.squeeze` function to drop the extra axis:\n"
   ]
  },
  {
   "cell_type": "code",
   "execution_count": null,
   "metadata": {},
   "outputs": [],
   "source": [
    "def drop():\n",
    "  global train_ds\n",
    "  global val_ds\n",
    "  @tf.autograph.experimental.do_not_convert\n",
    "  def squeeze(audio, labels):\n",
    "    audio = tf.squeeze(audio, axis=-1)\n",
    "    return audio, labels\n",
    "\n",
    "  train_ds = train_ds.map(squeeze, tf.data.AUTOTUNE)\n",
    "  val_ds = val_ds.map(squeeze, tf.data.AUTOTUNE)"
   ]
  },
  {
   "cell_type": "markdown",
   "metadata": {},
   "source": [
    "The `utils.audio_dataset_from_directory` function only returns up to two splits. It's a good idea to keep a test set separate from your validation set.\n",
    "Ideally you'd keep it in a separate directory, but in this case you can use `Dataset.shard` to split the validation set into two halves. Note that iterating over **any** shard will load **all** the data, and only keep its fraction.\n"
   ]
  },
  {
   "cell_type": "code",
   "execution_count": null,
   "metadata": {},
   "outputs": [],
   "source": [
    "def split():\n",
    "    global test_ds\n",
    "    global val_ds\n",
    "    test_ds = val_ds.shard(num_shards=2, index=0)\n",
    "    val_ds = val_ds.shard(num_shards=2, index=1)"
   ]
  },
  {
   "cell_type": "code",
   "execution_count": null,
   "metadata": {},
   "outputs": [],
   "source": [
    "def extract():\n",
    "  global example_audio\n",
    "  global example_labels\n",
    "  global example_filenames\n",
    "  for example_audio, example_labels in train_ds.take(1):  \n",
    "    print(\"Audio Shape:\", example_audio.shape)\n",
    "    print(\"Labels Shape:\", example_labels.shape)\n",
    "    print(\"Batch Labels:\", example_labels.numpy())\n",
    "    \n",
    "    # Extrahiere Dateinamen aus dem Dataset\n",
    "  example_filenames = []\n",
    "  for filepath in file_list.take(len(example_audio)):\n",
    "      example_filenames.append(pathlib.Path(filepath.numpy().decode('utf-8')).name)"
   ]
  },
  {
   "cell_type": "code",
   "execution_count": null,
   "metadata": {},
   "outputs": [],
   "source": [
    "def compare():\n",
    "    global example_filenames\n",
    "    file_labels = []\n",
    "    example_filenames = []\n",
    "    for filepath in file_list.take(len(example_audio)):\n",
    "        example_filenames.append(pathlib.Path(filepath.numpy().decode('utf-8')).name)\n",
    "    print(f\"example filenames: {example_filenames}\")\n",
    "    for dirpath, dirnames, filenames in os.walk(TRAIN_DIR):\n",
    "        for filename in filenames:\n",
    "            if filename.endswith('.wav'):\n",
    "                label = filename.split('_')[0]\n",
    "                file_labels.append(label)\n",
    "\n",
    "    # Erstelle ein Mapping für die Labels\n",
    "    label_mapping = {\n",
    "        'orig-16-44-mono': 1,\n",
    "        'upscale-from-mp3-128': 0,\n",
    "    }\n",
    "\n",
    "    # Erstelle eine Liste der gemappten Labels\n",
    "    mapped_labels = [label_mapping.get(label, -1) for label in file_labels]\n",
    "    print(\"Gemappte Labels aus Dateinamen:\", mapped_labels)\n",
    "\n",
    "    # Vergleiche die gemappten Labels mit den Batch-Labels\n",
    "    for i in range(min(len(mapped_labels), len(example_labels.numpy()))):\n",
    "        print(f\"Index: {i}, Batch Label: {example_labels.numpy()[i]}, Gemapptes Label: {mapped_labels[i]}\")"
   ]
  },
  {
   "cell_type": "code",
   "execution_count": null,
   "metadata": {},
   "outputs": [],
   "source": [
    "def run(_TRAIN_DIR, _TEST_DIR, _DATA_DIR, _VAL_DIR):\n",
    "    global TRAIN_DIR, TEST_DIR, DATA_DIR,VAL_DIR, file_list, example_labels, example_audio, train_ds, val_ds, test_ds, label_names, example_audio, example_labels, example_filenames\n",
    "\n",
    "    TRAIN_DIR =_TRAIN_DIR\n",
    "    TEST_DIR =_TEST_DIR\n",
    "    DATA_DIR = _DATA_DIR\n",
    "    VAL_DIR = _VAL_DIR\n",
    "\n",
    "    build()\n",
    "    drop()\n",
    "    split()\n",
    "    extract()\n",
    "    compare()\n",
    "    \n",
    "    return file_list, example_labels, example_audio, train_ds, val_ds, test_ds, label_names, example_audio, example_labels, example_filenames"
   ]
  }
 ],
 "metadata": {
  "kernelspec": {
   "display_name": "Python 3",
   "language": "python",
   "name": "python3"
  },
  "language_info": {
   "codemirror_mode": {
    "name": "ipython",
    "version": 3
   },
   "file_extension": ".py",
   "mimetype": "text/x-python",
   "name": "python",
   "nbconvert_exporter": "python",
   "pygments_lexer": "ipython3",
   "version": "3.11.1"
  }
 },
 "nbformat": 4,
 "nbformat_minor": 2
}
