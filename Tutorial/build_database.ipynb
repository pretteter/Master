{
 "cells": [
  {
   "cell_type": "code",
   "execution_count": null,
   "metadata": {},
   "outputs": [],
   "source": [
    "# import os\n",
    "import pathlib\n",
    "# import glob\n",
    "# import matplotlib.pyplot as plt \n",
    "import numpy as np\n",
    "# import seaborn as sns\n",
    "# import zipfile\n",
    "# import soundfile as sf\n",
    "import tensorflow as tf\n",
    "# from tensorflow.keras import layers\n",
    "# from tensorflow.keras import models\n",
    "# from IPython import display\n",
    "import pathlib\n",
    "# import sys\n",
    "# import tensorflow_io as tfio  \n",
    "# import pickle\n",
    "\n",
    "file_list = None\n",
    "train_ds = None\n",
    "val_ds = None\n",
    "test_ds = None\n",
    "label_names = None\n",
    "# audio = None\n",
    "example_audio = None\n",
    "example_labels = None\n",
    "example_filenames = None\n",
    "\n",
    "\n",
    "\n",
    "TRAIN_DIR = pathlib.Path('data/train_files')\n",
    "TEST_DIR = pathlib.Path('data/test_files')\n",
    "DATA_DIR = pathlib.Path('data')"
   ]
  },
  {
   "cell_type": "markdown",
   "metadata": {},
   "source": [
    "Divided into directories this way, you can easily load the data using `keras.utils.audio_dataset_from_directory`.\n",
    "\n",
    "The audio clips are 1 second or less at 16kHz. The `output_sequence_length=16000` pads the short ones to exactly 1 second (and would trim longer ones) so that they can be easily batched.\n"
   ]
  },
  {
   "cell_type": "code",
   "execution_count": null,
   "metadata": {},
   "outputs": [],
   "source": [
    "def build():\n",
    "    global file_list\n",
    "    global train_ds\n",
    "    global val_ds\n",
    "    global label_names\n",
    "    file_list = tf.data.Dataset.list_files(str(TRAIN_DIR / '**/*.wav'), shuffle=False)\n",
    "\n",
    "    seconds=20\n",
    "    train_ds, val_ds = tf.keras.utils.audio_dataset_from_directory(\n",
    "        directory=TRAIN_DIR,\n",
    "        batch_size=64,\n",
    "        validation_split=0.2,\n",
    "        seed=0,\n",
    "        output_sequence_length=16000*seconds,\n",
    "        subset='both'\n",
    "        )    \n",
    "    label_names = np.array(train_ds.class_names)\n",
    "    # set_label_names(np.array(train_ds.class_names))\n",
    "    print()\n",
    "    print(\"label names:\", label_names)\n",
    "    train_ds.element_spec"
   ]
  },
  {
   "cell_type": "markdown",
   "metadata": {},
   "source": [
    "The dataset now contains batches of audio clips and integer labels. The audio clips have a shape of `(batch, samples, channels)`.\n"
   ]
  },
  {
   "cell_type": "code",
   "execution_count": null,
   "metadata": {},
   "outputs": [],
   "source": [
    "# train_ds.element_spec"
   ]
  },
  {
   "cell_type": "markdown",
   "metadata": {},
   "source": [
    "This dataset only contains single channel audio, so use the `tf.squeeze` function to drop the extra axis:\n"
   ]
  },
  {
   "cell_type": "code",
   "execution_count": null,
   "metadata": {},
   "outputs": [],
   "source": [
    "def drop():\n",
    "  global train_ds\n",
    "  global val_ds\n",
    "  @tf.autograph.experimental.do_not_convert\n",
    "  def squeeze(audio, labels):\n",
    "    audio = tf.squeeze(audio, axis=-1)\n",
    "    return audio, labels\n",
    "\n",
    "  train_ds = train_ds.map(squeeze, tf.data.AUTOTUNE)\n",
    "  val_ds = val_ds.map(squeeze, tf.data.AUTOTUNE)"
   ]
  },
  {
   "cell_type": "markdown",
   "metadata": {},
   "source": [
    "The `utils.audio_dataset_from_directory` function only returns up to two splits. It's a good idea to keep a test set separate from your validation set.\n",
    "Ideally you'd keep it in a separate directory, but in this case you can use `Dataset.shard` to split the validation set into two halves. Note that iterating over **any** shard will load **all** the data, and only keep its fraction.\n"
   ]
  },
  {
   "cell_type": "code",
   "execution_count": null,
   "metadata": {},
   "outputs": [],
   "source": [
    "def split():\n",
    "    global test_ds\n",
    "    global val_ds\n",
    "    test_ds = val_ds.shard(num_shards=2, index=0)\n",
    "    val_ds = val_ds.shard(num_shards=2, index=1)"
   ]
  },
  {
   "cell_type": "code",
   "execution_count": null,
   "metadata": {},
   "outputs": [],
   "source": [
    "def extract():\n",
    "  global example_audio\n",
    "  global example_labels\n",
    "  global example_filenames\n",
    "  for example_audio, example_labels in train_ds.take(1):  \n",
    "    print(example_audio.shape)\n",
    "    print(example_labels.shape)\n",
    "    \n",
    "    # Extrahiere Dateinamen aus dem Dataset\n",
    "  example_filenames = []\n",
    "  for filepath in file_list.take(len(example_audio)):\n",
    "      example_filenames.append(pathlib.Path(filepath.numpy().decode('utf-8')).name)"
   ]
  },
  {
   "cell_type": "code",
   "execution_count": 2,
   "metadata": {},
   "outputs": [],
   "source": [
    "def compare():\n",
    "  global example_filenames\n",
    "  global example_labels\n",
    "  global label_names\n",
    "  # Zähler für die tatsächlichen Labels\n",
    "  actual_labels_count = 0\n",
    "\n",
    "  # Konsolenausgabe zur Überprüfung der Zuordnung\n",
    "  for i in range(len(example_filenames)):\n",
    "      # Hole das Label aus example_labels\n",
    "      label_index = example_labels[i].numpy()  \n",
    "      expected_label = label_names[label_index]\n",
    "\n",
    "      # Extrahiere das Label aus dem Dateinamen\n",
    "      label_in_filename = example_filenames[i].split('_')[0]  # Hier anpassen, falls das Trennzeichen anders ist\n",
    "      \n",
    "      # Zähle die tatsächlichen Labels\n",
    "      if label_in_filename == expected_label:\n",
    "          actual_labels_count += 1\n",
    "          if(label_in_filename ==\"upscale-16-48\"):\n",
    "            print('-' * 50)\n",
    "            print(f\"Index: {i}\")\n",
    "            print(f\"Dateiname: {example_filenames[i]}\")\n",
    "            print(f\"Label im Dateinamen: {label_in_filename}, Erwartetes Label: {expected_label}\")\n",
    "      else:\n",
    "        print('!' * 50)\n",
    "        print(f\"Index: {i}\")\n",
    "        print(f\"Dateiname: {example_filenames[i]}\")\n",
    "        print(f\"Label im Dateinamen: {label_in_filename}, Erwartetes Label: {expected_label}\")\n",
    "\n",
    "  # Am Ende die Gesamtanzahl der Labels ausgeben\n",
    "  print('-' * 50)  \n",
    "  print('-' * 50)\n",
    "  print('-' * 50)\n",
    "  print(f\"Anzahl der tatsächlichen Labels: {actual_labels_count}\")\n",
    "  print(f\"Anzahl der Labels im Dataset: {len(example_labels)}\")"
   ]
  },
  {
   "cell_type": "code",
   "execution_count": null,
   "metadata": {},
   "outputs": [],
   "source": [
    "# def run(input_file_list, input_train_ds, input_val_ds, input_test_ds, input_label_names, input_example_labels, input_example_audio, input_example_filenames):\n",
    "def run():\n",
    "    global file_list, example_labels, example_audio, train_ds, val_ds, test_ds, label_names, example_audio, example_labels, example_filenames\n",
    "\n",
    "    # file_list = input_file_list\n",
    "    # train_ds = input_train_ds\n",
    "    # val_ds = input_val_ds\n",
    "    # test_ds = input_test_ds\n",
    "    # label_names = input_label_names\n",
    "    # example_labels = input_example_labels\n",
    "    # example_audio = input_example_audio\n",
    "    # example_filenames = input_example_filenames\n",
    "\n",
    "    build()\n",
    "    drop()\n",
    "    split()\n",
    "    extract()\n",
    "    compare()\n",
    "    \n",
    "    return file_list, example_labels, example_audio, train_ds, val_ds, test_ds, label_names, example_audio, example_labels, example_filenames"
   ]
  }
 ],
 "metadata": {
  "kernelspec": {
   "display_name": "Python 3",
   "language": "python",
   "name": "python3"
  },
  "language_info": {
   "codemirror_mode": {
    "name": "ipython",
    "version": 3
   },
   "file_extension": ".py",
   "mimetype": "text/x-python",
   "name": "python",
   "nbconvert_exporter": "python",
   "pygments_lexer": "ipython3",
   "version": "3.11.1"
  }
 },
 "nbformat": 4,
 "nbformat_minor": 2
}
